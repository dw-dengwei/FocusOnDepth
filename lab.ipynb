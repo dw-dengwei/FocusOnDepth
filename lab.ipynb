{
 "cells": [
  {
   "cell_type": "code",
   "execution_count": 1,
   "metadata": {},
   "outputs": [],
   "source": [
    "import torch\n",
    "from torchvision import transforms\n",
    "from PIL import Image"
   ]
  },
  {
   "cell_type": "code",
   "execution_count": 20,
   "metadata": {},
   "outputs": [
    {
     "name": "stdout",
     "output_type": "stream",
     "text": [
      "(512, 512)\n"
     ]
    },
    {
     "name": "stderr",
     "output_type": "stream",
     "text": [
      "/tmp/ipykernel_270715/557390514.py:5: DeprecationWarning: NEAREST is deprecated and will be removed in Pillow 10 (2023-07-01). Use Resampling.NEAREST or Dither.NONE instead.\n",
      "  img = img.resize((img.size[0] // 10, img.size[0] // 10), Image.NEAREST)\n",
      "/tmp/ipykernel_270715/557390514.py:6: DeprecationWarning: NEAREST is deprecated and will be removed in Pillow 10 (2023-07-01). Use Resampling.NEAREST or Dither.NONE instead.\n",
      "  img = img.resize((500, 500), Image.NEAREST)\n"
     ]
    },
    {
     "data": {
      "text/plain": [
       "True"
      ]
     },
     "execution_count": 20,
     "metadata": {},
     "output_type": "execute_result"
    }
   ],
   "source": [
    "import numpy as np\n",
    "img = Image.open('/home/dw/data/bu3dfe/augment/rgb/train/F0039_HA03AE_X-15_Y-15_rgb.png')\n",
    "print(img.size)\n",
    "img = img.resize((500, 500))\n",
    "img = img.resize((img.size[0] // 10, img.size[0] // 10), Image.NEAREST)\n",
    "img = img.resize((500, 500), Image.NEAREST)\n",
    "\n",
    "import cv2\n",
    "img = np.array(img)\n",
    "img = cv2.GaussianBlur(img, (7, 7), 0)\n",
    "img = cv2.cvtColor(img, cv2.COLOR_RGB2BGR)\n",
    "cv2.imwrite('ff.png', img)"
   ]
  }
 ],
 "metadata": {
  "kernelspec": {
   "display_name": "Python 3",
   "language": "python",
   "name": "python3"
  },
  "language_info": {
   "codemirror_mode": {
    "name": "ipython",
    "version": 3
   },
   "file_extension": ".py",
   "mimetype": "text/x-python",
   "name": "python",
   "nbconvert_exporter": "python",
   "pygments_lexer": "ipython3",
   "version": "3.9.15"
  },
  "orig_nbformat": 4,
  "vscode": {
   "interpreter": {
    "hash": "fda1eb513517cb2bb40d523ae7feb70f4d8c480c140e7ffd78eb6327a35770da"
   }
  }
 },
 "nbformat": 4,
 "nbformat_minor": 2
}
